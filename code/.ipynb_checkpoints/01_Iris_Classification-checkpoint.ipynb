{
 "cells": [
  {
   "cell_type": "code",
   "execution_count": null,
   "metadata": {},
   "outputs": [],
   "source": []
  },
  {
   "cell_type": "code",
   "execution_count": 9,
   "metadata": {
    "ExecuteTime": {
     "end_time": "2018-06-22T01:54:35.965055Z",
     "start_time": "2018-06-22T01:54:35.896240Z"
    }
   },
   "outputs": [],
   "source": [
    "# #Python Libraries\n",
    "import numpy as np\n",
    "import scipy as sp\n",
    "import pandas as pd\n",
    "import statsmodels\n",
    "import pandas_profiling\n",
    "\n",
    "%matplotlib inline\n",
    "import matplotlib.pyplot as plt\n",
    "import seaborn as sns\n",
    "\n",
    "import os\n",
    "import sys\n",
    "import time\n",
    "import random\n",
    "import requests\n",
    "import datetime\n",
    "\n",
    "import missingno as msno\n",
    "import math\n",
    "import sys\n",
    "import gc\n",
    "import os\n",
    "\n",
    "# #sklearn\n",
    "from sklearn.model_selection import train_test_split\n",
    "from sklearn.model_selection import cross_val_score\n",
    "from sklearn.model_selection import RandomizedSearchCV\n",
    "from sklearn.model_selection import GridSearchCV\n",
    "from sklearn.model_selection import StratifiedKFold\n",
    "from sklearn.ensemble import RandomForestRegressor\n",
    "\n",
    "# #sklearn - preprocessing\n",
    "from sklearn.preprocessing import StandardScaler\n",
    "from sklearn.preprocessing import LabelEncoder\n",
    "\n",
    "# #sklearn - metrics\n",
    "from sklearn.metrics import mean_squared_error\n",
    "from sklearn.metrics import mean_absolute_error\n",
    "from sklearn.metrics import r2_score\n",
    "from sklearn.metrics import roc_auc_score\n",
    "\n",
    "# #XGBoost & LightGBM\n",
    "import xgboost as xgb\n",
    "import lightgbm as lgb\n",
    "\n",
    "# #Missing value imputation\n",
    "from fancyimpute import KNN, MICE\n",
    "\n",
    "# #Hyperparameter Optimization\n",
    "from hyperopt.pyll.base import scope\n",
    "from hyperopt.pyll.stochastic import sample\n",
    "from hyperopt import STATUS_OK, Trials, fmin, hp, tpe\n",
    "\n",
    "pd.options.display.max_columns = 150\n",
    "\n",
    "# #Deep Learning\n",
    "from keras.models import Sequential\n",
    "from keras.layers.core import Dense, Activation\n",
    "from keras.utils import np_utils"
   ]
  },
  {
   "cell_type": "code",
   "execution_count": null,
   "metadata": {},
   "outputs": [],
   "source": []
  },
  {
   "cell_type": "markdown",
   "metadata": {},
   "source": [
    "## Iris Dataset"
   ]
  },
  {
   "cell_type": "code",
   "execution_count": 2,
   "metadata": {
    "ExecuteTime": {
     "end_time": "2018-06-22T01:43:20.003713Z",
     "start_time": "2018-06-22T01:43:18.741408Z"
    }
   },
   "outputs": [
    {
     "data": {
      "text/html": [
       "<div>\n",
       "<style scoped>\n",
       "    .dataframe tbody tr th:only-of-type {\n",
       "        vertical-align: middle;\n",
       "    }\n",
       "\n",
       "    .dataframe tbody tr th {\n",
       "        vertical-align: top;\n",
       "    }\n",
       "\n",
       "    .dataframe thead th {\n",
       "        text-align: right;\n",
       "    }\n",
       "</style>\n",
       "<table border=\"1\" class=\"dataframe\">\n",
       "  <thead>\n",
       "    <tr style=\"text-align: right;\">\n",
       "      <th></th>\n",
       "      <th>sepal_length</th>\n",
       "      <th>sepal_width</th>\n",
       "      <th>petal_length</th>\n",
       "      <th>petal_width</th>\n",
       "      <th>species</th>\n",
       "    </tr>\n",
       "  </thead>\n",
       "  <tbody>\n",
       "    <tr>\n",
       "      <th>0</th>\n",
       "      <td>5.1</td>\n",
       "      <td>3.5</td>\n",
       "      <td>1.4</td>\n",
       "      <td>0.2</td>\n",
       "      <td>setosa</td>\n",
       "    </tr>\n",
       "    <tr>\n",
       "      <th>1</th>\n",
       "      <td>4.9</td>\n",
       "      <td>3.0</td>\n",
       "      <td>1.4</td>\n",
       "      <td>0.2</td>\n",
       "      <td>setosa</td>\n",
       "    </tr>\n",
       "    <tr>\n",
       "      <th>2</th>\n",
       "      <td>4.7</td>\n",
       "      <td>3.2</td>\n",
       "      <td>1.3</td>\n",
       "      <td>0.2</td>\n",
       "      <td>setosa</td>\n",
       "    </tr>\n",
       "    <tr>\n",
       "      <th>3</th>\n",
       "      <td>4.6</td>\n",
       "      <td>3.1</td>\n",
       "      <td>1.5</td>\n",
       "      <td>0.2</td>\n",
       "      <td>setosa</td>\n",
       "    </tr>\n",
       "    <tr>\n",
       "      <th>4</th>\n",
       "      <td>5.0</td>\n",
       "      <td>3.6</td>\n",
       "      <td>1.4</td>\n",
       "      <td>0.2</td>\n",
       "      <td>setosa</td>\n",
       "    </tr>\n",
       "  </tbody>\n",
       "</table>\n",
       "</div>"
      ],
      "text/plain": [
       "   sepal_length  sepal_width  petal_length  petal_width species\n",
       "0           5.1          3.5           1.4          0.2  setosa\n",
       "1           4.9          3.0           1.4          0.2  setosa\n",
       "2           4.7          3.2           1.3          0.2  setosa\n",
       "3           4.6          3.1           1.5          0.2  setosa\n",
       "4           5.0          3.6           1.4          0.2  setosa"
      ]
     },
     "execution_count": 2,
     "metadata": {},
     "output_type": "execute_result"
    }
   ],
   "source": [
    "iris = sns.load_dataset(\"iris\")\n",
    "iris.head()"
   ]
  },
  {
   "cell_type": "markdown",
   "metadata": {},
   "source": [
    "Test-Train Split"
   ]
  },
  {
   "cell_type": "code",
   "execution_count": 3,
   "metadata": {
    "ExecuteTime": {
     "end_time": "2018-06-22T01:43:54.945813Z",
     "start_time": "2018-06-22T01:43:54.940827Z"
    }
   },
   "outputs": [],
   "source": [
    "X = iris.values[:, :4]\n",
    "y = iris.values[:, 4]"
   ]
  },
  {
   "cell_type": "code",
   "execution_count": 4,
   "metadata": {
    "ExecuteTime": {
     "end_time": "2018-06-22T01:44:48.451163Z",
     "start_time": "2018-06-22T01:44:48.446203Z"
    }
   },
   "outputs": [],
   "source": [
    "train_X, test_X, train_y, test_y = train_test_split(X, y, train_size=0.7, test_size=0.3, random_state=0)"
   ]
  },
  {
   "cell_type": "code",
   "execution_count": null,
   "metadata": {},
   "outputs": [],
   "source": []
  },
  {
   "cell_type": "markdown",
   "metadata": {},
   "source": [
    "Keras requires input labels be one-hot-encoded."
   ]
  },
  {
   "cell_type": "code",
   "execution_count": 5,
   "metadata": {
    "ExecuteTime": {
     "end_time": "2018-06-22T01:48:08.970798Z",
     "start_time": "2018-06-22T01:48:08.963818Z"
    }
   },
   "outputs": [],
   "source": [
    "train_y_ohe = pd.get_dummies(train_y)\n",
    "test_y_ohe = pd.get_dummies(test_y)"
   ]
  },
  {
   "cell_type": "code",
   "execution_count": null,
   "metadata": {},
   "outputs": [],
   "source": []
  },
  {
   "cell_type": "markdown",
   "metadata": {},
   "source": [
    "Input layer must have 4 units, since we have 4 features.\n",
    "\n",
    "Output layer must have 3 units, since we have 3 output classes/categories."
   ]
  },
  {
   "cell_type": "markdown",
   "metadata": {
    "ExecuteTime": {
     "end_time": "2018-06-22T01:53:20.826881Z",
     "start_time": "2018-06-22T01:53:20.820897Z"
    }
   },
   "source": [
    "As a start, we will utilize one hidden layer with 16 units"
   ]
  },
  {
   "cell_type": "code",
   "execution_count": 10,
   "metadata": {
    "ExecuteTime": {
     "end_time": "2018-06-22T01:54:41.438642Z",
     "start_time": "2018-06-22T01:54:41.356769Z"
    }
   },
   "outputs": [],
   "source": [
    "model = Sequential()\n",
    "\n",
    "model.add(Dense(16, input_shape=(4,)))\n",
    "model.add(Activation('sigmoid'))\n",
    "\n",
    "model.add(Dense(3))\n",
    "model.add(Activation('softmax'))"
   ]
  },
  {
   "cell_type": "code",
   "execution_count": 12,
   "metadata": {
    "ExecuteTime": {
     "end_time": "2018-06-22T01:55:23.437401Z",
     "start_time": "2018-06-22T01:55:23.323627Z"
    }
   },
   "outputs": [],
   "source": [
    "model.compile(optimizer='adam', loss='categorical_crossentropy', metrics=[\"accuracy\"])"
   ]
  },
  {
   "cell_type": "code",
   "execution_count": 14,
   "metadata": {
    "ExecuteTime": {
     "end_time": "2018-06-22T01:55:52.413272Z",
     "start_time": "2018-06-22T01:55:43.418345Z"
    }
   },
   "outputs": [
    {
     "name": "stdout",
     "output_type": "stream",
     "text": [
      "Epoch 1/100\n",
      "105/105 [==============================] - 0s 931us/step - loss: 0.0811 - acc: 0.9810\n",
      "Epoch 2/100\n",
      "105/105 [==============================] - 0s 893us/step - loss: 0.0808 - acc: 0.9619\n",
      "Epoch 3/100\n",
      "105/105 [==============================] - 0s 883us/step - loss: 0.0811 - acc: 0.9714\n",
      "Epoch 4/100\n",
      "105/105 [==============================] - 0s 855us/step - loss: 0.0797 - acc: 0.9714\n",
      "Epoch 5/100\n",
      "105/105 [==============================] - 0s 912us/step - loss: 0.0761 - acc: 0.9810\n",
      "Epoch 6/100\n",
      "105/105 [==============================] - 0s 855us/step - loss: 0.0788 - acc: 0.9714\n",
      "Epoch 7/100\n",
      "105/105 [==============================] - 0s 1ms/step - loss: 0.0753 - acc: 0.9714\n",
      "Epoch 8/100\n",
      "105/105 [==============================] - 0s 902us/step - loss: 0.0733 - acc: 0.9810\n",
      "Epoch 9/100\n",
      "105/105 [==============================] - 0s 874us/step - loss: 0.0791 - acc: 0.9714\n",
      "Epoch 10/100\n",
      "105/105 [==============================] - 0s 903us/step - loss: 0.0736 - acc: 0.9810\n",
      "Epoch 11/100\n",
      "105/105 [==============================] - 0s 1ms/step - loss: 0.0734 - acc: 0.9714\n",
      "Epoch 12/100\n",
      "105/105 [==============================] - 0s 1ms/step - loss: 0.0731 - acc: 0.9619\n",
      "Epoch 13/100\n",
      "105/105 [==============================] - 0s 1ms/step - loss: 0.0728 - acc: 0.9714\n",
      "Epoch 14/100\n",
      "105/105 [==============================] - 0s 1ms/step - loss: 0.0740 - acc: 0.9714\n",
      "Epoch 15/100\n",
      "105/105 [==============================] - 0s 912us/step - loss: 0.0712 - acc: 0.9714\n",
      "Epoch 16/100\n",
      "105/105 [==============================] - 0s 874us/step - loss: 0.0750 - acc: 0.9619\n",
      "Epoch 17/100\n",
      "105/105 [==============================] - 0s 883us/step - loss: 0.0688 - acc: 0.9619\n",
      "Epoch 18/100\n",
      "105/105 [==============================] - 0s 855us/step - loss: 0.0706 - acc: 0.9714\n",
      "Epoch 19/100\n",
      "105/105 [==============================] - 0s 855us/step - loss: 0.0687 - acc: 0.9905\n",
      "Epoch 20/100\n",
      "105/105 [==============================] - 0s 988us/step - loss: 0.0697 - acc: 0.9714\n",
      "Epoch 21/100\n",
      "105/105 [==============================] - 0s 845us/step - loss: 0.0691 - acc: 0.9714\n",
      "Epoch 22/100\n",
      "105/105 [==============================] - 0s 864us/step - loss: 0.0700 - acc: 0.9619\n",
      "Epoch 23/100\n",
      "105/105 [==============================] - 0s 1ms/step - loss: 0.0653 - acc: 0.9810\n",
      "Epoch 24/100\n",
      "105/105 [==============================] - 0s 1ms/step - loss: 0.0716 - acc: 0.9619\n",
      "Epoch 25/100\n",
      "105/105 [==============================] - 0s 1ms/step - loss: 0.0701 - acc: 0.9714\n",
      "Epoch 26/100\n",
      "105/105 [==============================] - 0s 798us/step - loss: 0.0669 - acc: 0.9714\n",
      "Epoch 27/100\n",
      "105/105 [==============================] - 0s 760us/step - loss: 0.0682 - acc: 0.9714\n",
      "Epoch 28/100\n",
      "105/105 [==============================] - 0s 693us/step - loss: 0.0650 - acc: 0.9714\n",
      "Epoch 29/100\n",
      "105/105 [==============================] - 0s 741us/step - loss: 0.0661 - acc: 0.9810\n",
      "Epoch 30/100\n",
      "105/105 [==============================] - 0s 731us/step - loss: 0.0678 - acc: 0.9810\n",
      "Epoch 31/100\n",
      "105/105 [==============================] - 0s 883us/step - loss: 0.0617 - acc: 0.9810\n",
      "Epoch 32/100\n",
      "105/105 [==============================] - 0s 817us/step - loss: 0.0689 - acc: 0.9714\n",
      "Epoch 33/100\n",
      "105/105 [==============================] - 0s 798us/step - loss: 0.0625 - acc: 0.9810\n",
      "Epoch 34/100\n",
      "105/105 [==============================] - 0s 807us/step - loss: 0.0609 - acc: 0.9810\n",
      "Epoch 35/100\n",
      "105/105 [==============================] - 0s 836us/step - loss: 0.0598 - acc: 0.9714\n",
      "Epoch 36/100\n",
      "105/105 [==============================] - 0s 893us/step - loss: 0.0654 - acc: 0.9714\n",
      "Epoch 37/100\n",
      "105/105 [==============================] - 0s 722us/step - loss: 0.0655 - acc: 0.9714\n",
      "Epoch 38/100\n",
      "105/105 [==============================] - 0s 760us/step - loss: 0.0623 - acc: 0.9714\n",
      "Epoch 39/100\n",
      "105/105 [==============================] - 0s 779us/step - loss: 0.0611 - acc: 0.9714\n",
      "Epoch 40/100\n",
      "105/105 [==============================] - 0s 760us/step - loss: 0.0573 - acc: 0.9905\n",
      "Epoch 41/100\n",
      "105/105 [==============================] - 0s 788us/step - loss: 0.0616 - acc: 0.9714\n",
      "Epoch 42/100\n",
      "105/105 [==============================] - 0s 760us/step - loss: 0.0625 - acc: 0.9714\n",
      "Epoch 43/100\n",
      "105/105 [==============================] - 0s 760us/step - loss: 0.0601 - acc: 0.9714\n",
      "Epoch 44/100\n",
      "105/105 [==============================] - 0s 731us/step - loss: 0.0596 - acc: 0.9714\n",
      "Epoch 45/100\n",
      "105/105 [==============================] - 0s 798us/step - loss: 0.0603 - acc: 0.9810\n",
      "Epoch 46/100\n",
      "105/105 [==============================] - 0s 788us/step - loss: 0.0583 - acc: 0.9810\n",
      "Epoch 47/100\n",
      "105/105 [==============================] - 0s 769us/step - loss: 0.0578 - acc: 0.9714\n",
      "Epoch 48/100\n",
      "105/105 [==============================] - 0s 855us/step - loss: 0.0592 - acc: 0.9714\n",
      "Epoch 49/100\n",
      "105/105 [==============================] - 0s 769us/step - loss: 0.0585 - acc: 0.9714\n",
      "Epoch 50/100\n",
      "105/105 [==============================] - 0s 807us/step - loss: 0.0632 - acc: 0.9714\n",
      "Epoch 51/100\n",
      "105/105 [==============================] - 0s 807us/step - loss: 0.0627 - acc: 0.9714\n",
      "Epoch 52/100\n",
      "105/105 [==============================] - 0s 788us/step - loss: 0.0584 - acc: 0.9714\n",
      "Epoch 53/100\n",
      "105/105 [==============================] - 0s 798us/step - loss: 0.0567 - acc: 0.9810\n",
      "Epoch 54/100\n",
      "105/105 [==============================] - 0s 779us/step - loss: 0.0587 - acc: 0.9714\n",
      "Epoch 55/100\n",
      "105/105 [==============================] - 0s 789us/step - loss: 0.0573 - acc: 0.9714\n",
      "Epoch 56/100\n",
      "105/105 [==============================] - 0s 770us/step - loss: 0.0582 - acc: 0.9714\n",
      "Epoch 57/100\n",
      "105/105 [==============================] - 0s 807us/step - loss: 0.0564 - acc: 0.9714\n",
      "Epoch 58/100\n",
      "105/105 [==============================] - 0s 817us/step - loss: 0.0568 - acc: 0.9810\n",
      "Epoch 59/100\n",
      "105/105 [==============================] - 0s 769us/step - loss: 0.0581 - acc: 0.9714\n",
      "Epoch 60/100\n",
      "105/105 [==============================] - 0s 1ms/step - loss: 0.0594 - acc: 0.9619\n",
      "Epoch 61/100\n",
      "105/105 [==============================] - 0s 1ms/step - loss: 0.0553 - acc: 0.9714\n",
      "Epoch 62/100\n",
      "105/105 [==============================] - 0s 940us/step - loss: 0.0547 - acc: 0.9810\n",
      "Epoch 63/100\n",
      "105/105 [==============================] - 0s 741us/step - loss: 0.0549 - acc: 0.9905\n",
      "Epoch 64/100\n",
      "105/105 [==============================] - 0s 750us/step - loss: 0.0562 - acc: 0.9714\n",
      "Epoch 65/100\n",
      "105/105 [==============================] - 0s 798us/step - loss: 0.0590 - acc: 0.9619\n",
      "Epoch 66/100\n",
      "105/105 [==============================] - 0s 864us/step - loss: 0.0538 - acc: 0.9714\n",
      "Epoch 67/100\n",
      "105/105 [==============================] - 0s 807us/step - loss: 0.0544 - acc: 0.9714\n",
      "Epoch 68/100\n",
      "105/105 [==============================] - 0s 855us/step - loss: 0.0534 - acc: 0.9905\n",
      "Epoch 69/100\n",
      "105/105 [==============================] - 0s 798us/step - loss: 0.0572 - acc: 0.9714\n",
      "Epoch 70/100\n",
      "105/105 [==============================] - 0s 807us/step - loss: 0.0561 - acc: 0.9714\n",
      "Epoch 71/100\n",
      "105/105 [==============================] - 0s 893us/step - loss: 0.0587 - acc: 0.9619\n",
      "Epoch 72/100\n",
      "105/105 [==============================] - 0s 778us/step - loss: 0.0547 - acc: 0.9810\n",
      "Epoch 73/100\n",
      "105/105 [==============================] - 0s 798us/step - loss: 0.0541 - acc: 0.9714\n",
      "Epoch 74/100\n",
      "105/105 [==============================] - 0s 760us/step - loss: 0.0540 - acc: 0.9810\n",
      "Epoch 75/100\n",
      "105/105 [==============================] - 0s 1ms/step - loss: 0.0600 - acc: 0.9714\n",
      "Epoch 76/100\n",
      "105/105 [==============================] - 0s 1ms/step - loss: 0.0533 - acc: 0.9810\n",
      "Epoch 77/100\n",
      "105/105 [==============================] - 0s 1ms/step - loss: 0.0527 - acc: 0.9810\n",
      "Epoch 78/100\n",
      "105/105 [==============================] - 0s 779us/step - loss: 0.0548 - acc: 0.9810\n",
      "Epoch 79/100\n",
      "105/105 [==============================] - 0s 779us/step - loss: 0.0544 - acc: 0.9714\n",
      "Epoch 80/100\n",
      "105/105 [==============================] - 0s 760us/step - loss: 0.0557 - acc: 0.9810\n",
      "Epoch 81/100\n",
      "105/105 [==============================] - 0s 826us/step - loss: 0.0556 - acc: 0.9714\n",
      "Epoch 82/100\n",
      "105/105 [==============================] - 0s 883us/step - loss: 0.0541 - acc: 0.9714\n",
      "Epoch 83/100\n",
      "105/105 [==============================] - 0s 788us/step - loss: 0.0561 - acc: 0.9714\n",
      "Epoch 84/100\n"
     ]
    },
    {
     "name": "stdout",
     "output_type": "stream",
     "text": [
      "105/105 [==============================] - 0s 807us/step - loss: 0.0530 - acc: 0.9714\n",
      "Epoch 85/100\n",
      "105/105 [==============================] - 0s 779us/step - loss: 0.0529 - acc: 0.9810\n",
      "Epoch 86/100\n",
      "105/105 [==============================] - 0s 817us/step - loss: 0.0494 - acc: 0.9810\n",
      "Epoch 87/100\n",
      "105/105 [==============================] - 0s 769us/step - loss: 0.0553 - acc: 0.9714\n",
      "Epoch 88/100\n",
      "105/105 [==============================] - 0s 798us/step - loss: 0.0554 - acc: 0.9714\n",
      "Epoch 89/100\n",
      "105/105 [==============================] - 0s 769us/step - loss: 0.0507 - acc: 0.9714\n",
      "Epoch 90/100\n",
      "105/105 [==============================] - 0s 769us/step - loss: 0.0559 - acc: 0.9714\n",
      "Epoch 91/100\n",
      "105/105 [==============================] - 0s 807us/step - loss: 0.0514 - acc: 0.9810\n",
      "Epoch 92/100\n",
      "105/105 [==============================] - 0s 760us/step - loss: 0.0506 - acc: 0.9810\n",
      "Epoch 93/100\n",
      "105/105 [==============================] - 0s 798us/step - loss: 0.0519 - acc: 0.9810\n",
      "Epoch 94/100\n",
      "105/105 [==============================] - 0s 779us/step - loss: 0.0540 - acc: 0.9619\n",
      "Epoch 95/100\n",
      "105/105 [==============================] - 0s 760us/step - loss: 0.0547 - acc: 0.9714\n",
      "Epoch 96/100\n",
      "105/105 [==============================] - 0s 798us/step - loss: 0.0521 - acc: 0.9810\n",
      "Epoch 97/100\n",
      "105/105 [==============================] - 0s 750us/step - loss: 0.0515 - acc: 0.9810\n",
      "Epoch 98/100\n",
      "105/105 [==============================] - 0s 760us/step - loss: 0.0484 - acc: 0.9810\n",
      "Epoch 99/100\n",
      "105/105 [==============================] - 0s 741us/step - loss: 0.0532 - acc: 0.9810\n",
      "Epoch 100/100\n",
      "105/105 [==============================] - 0s 779us/step - loss: 0.0515 - acc: 0.9714\n"
     ]
    },
    {
     "data": {
      "text/plain": [
       "<keras.callbacks.History at 0x21630b8e358>"
      ]
     },
     "execution_count": 14,
     "metadata": {},
     "output_type": "execute_result"
    }
   ],
   "source": [
    "model.fit(train_X, train_y_ohe, epochs=100, batch_size=1)"
   ]
  },
  {
   "cell_type": "code",
   "execution_count": 17,
   "metadata": {
    "ExecuteTime": {
     "end_time": "2018-06-22T01:56:39.560303Z",
     "start_time": "2018-06-22T01:56:39.551311Z"
    }
   },
   "outputs": [
    {
     "name": "stdout",
     "output_type": "stream",
     "text": [
      "Accuracy = 0.98\n"
     ]
    }
   ],
   "source": [
    "lossloss,  accuracy = model.evaluate(test_X, test_y_ohe, verbose=0)\n",
    "print(\"Accuracy = {:.2f}\".format(accuracy))"
   ]
  },
  {
   "cell_type": "code",
   "execution_count": null,
   "metadata": {},
   "outputs": [],
   "source": []
  }
 ],
 "metadata": {
  "kernelspec": {
   "display_name": "Python 3",
   "language": "python",
   "name": "python3"
  },
  "language_info": {
   "codemirror_mode": {
    "name": "ipython",
    "version": 3
   },
   "file_extension": ".py",
   "mimetype": "text/x-python",
   "name": "python",
   "nbconvert_exporter": "python",
   "pygments_lexer": "ipython3",
   "version": "3.6.3rc1"
  },
  "latex_envs": {
   "LaTeX_envs_menu_present": true,
   "autoclose": false,
   "autocomplete": true,
   "bibliofile": "biblio.bib",
   "cite_by": "apalike",
   "current_citInitial": 1,
   "eqLabelWithNumbers": true,
   "eqNumInitial": 1,
   "hotkeys": {
    "equation": "Ctrl-E",
    "itemize": "Ctrl-I"
   },
   "labels_anchors": false,
   "latex_user_defs": false,
   "report_style_numbering": false,
   "user_envs_cfg": false
  },
  "toc": {
   "nav_menu": {},
   "number_sections": true,
   "sideBar": true,
   "skip_h1_title": false,
   "title_cell": "Table of Contents",
   "title_sidebar": "Contents",
   "toc_cell": false,
   "toc_position": {},
   "toc_section_display": true,
   "toc_window_display": false
  }
 },
 "nbformat": 4,
 "nbformat_minor": 2
}
